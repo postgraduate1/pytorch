{
 "cells": [
  {
   "cell_type": "markdown",
   "metadata": {},
   "source": [
    "## 减小尺寸"
   ]
  },
  {
   "cell_type": "code",
   "execution_count": 4,
   "metadata": {},
   "outputs": [
    {
     "name": "stdout",
     "output_type": "stream",
     "text": [
      "torch.Size([1, 1, 4, 4])\n",
      "torch.Size([1, 1, 8, 8])\n"
     ]
    }
   ],
   "source": [
    "import torch\n",
    "\n",
    "import torch.nn as nn\n",
    "import torch.nn.functional as F\n",
    "\n",
    "# 大步长卷积 \n",
    "conv_stride = nn.Conv2d(in_channels=1, \n",
    "                        out_channels=1, \n",
    "                        kernel_size=3,\n",
    "                        stride=2, \n",
    "                        padding=1)\n",
    "\n",
    "# 空洞卷积\n",
    "conv_dilation = nn.Conv2d(in_channels=1,\n",
    "                        out_channels=1,\n",
    "                        kernel_size=3,\n",
    "                        dilation=2,\n",
    "                        padding=2,\n",
    "                        padding_mode='zeros')\n",
    "x = torch.rand(1, 1, 8, 8)\n",
    "\n",
    "out_stride = conv_stride(x)\n",
    "out_dilation = conv_dilation(x)\n",
    "\n",
    "print(out_stride.shape) # torch.Size([1, 1, 4, 4]) \n",
    "print(out_dilation.shape) # torch.Size([1, 1, 8, 8])"
   ]
  },
  {
   "cell_type": "code",
   "execution_count": 6,
   "metadata": {},
   "outputs": [
    {
     "data": {
      "text/plain": [
       "tensor([[[[5.8840e-02, 8.8304e-01, 3.0304e-02, 6.6571e-01, 3.2203e-01,\n",
       "           9.7143e-02, 1.2706e-01, 3.5796e-01],\n",
       "          [6.9173e-01, 3.7718e-01, 4.2464e-01, 4.2329e-01, 7.1095e-01,\n",
       "           7.6326e-02, 7.4034e-01, 2.9528e-01],\n",
       "          [2.0159e-01, 4.3785e-01, 9.1835e-01, 9.6365e-01, 1.2393e-01,\n",
       "           1.7474e-01, 9.4890e-01, 1.1366e-01],\n",
       "          [1.8123e-01, 6.4904e-01, 2.2894e-02, 6.6371e-01, 8.7870e-01,\n",
       "           8.5400e-01, 6.1252e-01, 7.6460e-01],\n",
       "          [3.7438e-01, 2.8792e-01, 9.7663e-01, 1.7397e-01, 8.3735e-01,\n",
       "           8.2190e-01, 9.3596e-01, 9.0398e-01],\n",
       "          [9.1881e-01, 4.1199e-04, 6.5208e-01, 6.5923e-01, 1.0790e-01,\n",
       "           9.0119e-01, 8.0754e-01, 9.7555e-01],\n",
       "          [9.4299e-02, 1.3071e-02, 3.7057e-02, 3.4672e-01, 5.8158e-01,\n",
       "           9.4573e-01, 7.7415e-01, 9.9720e-01],\n",
       "          [5.7956e-01, 1.0570e-01, 2.4595e-01, 7.6631e-01, 6.0523e-01,\n",
       "           4.8122e-01, 5.0546e-01, 4.8314e-01]]]])"
      ]
     },
     "execution_count": 6,
     "metadata": {},
     "output_type": "execute_result"
    }
   ],
   "source": [
    "torch.mean(x, dim=1, keepdim=True)"
   ]
  },
  {
   "cell_type": "code",
   "execution_count": 7,
   "metadata": {},
   "outputs": [],
   "source": [
    "in_places=3\n",
    "places=64\n",
    "stride=1#不改变尺寸\n",
    "expansion=4#通道倍增倍数\n",
    "bottleneck = nn.Sequential(\n",
    "            nn.Conv2d(in_channels=in_places,out_channels=places,kernel_size=1,stride=1, bias=False),\n",
    "            nn.BatchNorm2d(places),\n",
    "            # nn.ReLU(inplace=True),\n",
    "            nn.Conv2d(in_channels=places, out_channels=places, kernel_size=3, stride=stride, padding=1, bias=False),\n",
    "            nn.BatchNorm2d(places),\n",
    "            # nn.ReLU(inplace=True),\n",
    "            nn.Conv2d(in_channels=places, out_channels=places*expansion, kernel_size=1, stride=1, bias=False),\n",
    "            nn.BatchNorm2d(places*expansion),\n",
    "        )"
   ]
  },
  {
   "cell_type": "code",
   "execution_count": 8,
   "metadata": {},
   "outputs": [
    {
     "data": {
      "text/plain": [
       "torch.Size([1, 256, 256, 256])"
      ]
     },
     "execution_count": 8,
     "metadata": {},
     "output_type": "execute_result"
    }
   ],
   "source": [
    "x = torch.rand(1, 3, 256, 256)\n",
    "bottleneck(x).shape"
   ]
  },
  {
   "cell_type": "code",
   "execution_count": 9,
   "metadata": {},
   "outputs": [
    {
     "name": "stdout",
     "output_type": "stream",
     "text": [
      "torch.Size([1, 64, 256, 256])\n"
     ]
    }
   ],
   "source": [
    "x=torch.rand(1, 3, 256, 256)\n",
    "print(nn.Conv2d(in_channels=3, out_channels=64, kernel_size=1, stride=1, padding=0, dilation=1)(x).shape)"
   ]
  },
  {
   "cell_type": "markdown",
   "metadata": {},
   "source": [
    "## k、s、p、d"
   ]
  },
  {
   "cell_type": "code",
   "execution_count": 10,
   "metadata": {},
   "outputs": [
    {
     "data": {
      "text/plain": [
       "torch.Size([1, 64, 128, 128])"
      ]
     },
     "execution_count": 10,
     "metadata": {},
     "output_type": "execute_result"
    }
   ],
   "source": [
    "dilation=1\n",
    "kernel_size=5\n",
    "kernel_ = dilation*(kernel_size-1) + 1\n",
    "stride=2\n",
    "padding=2\n",
    "\n",
    "conv1=nn.Conv2d(in_channels=3, out_channels=64, kernel_size=kernel_size, stride=stride,padding=padding,dilation=dilation)\n",
    "conv1(x).shape\n"
   ]
  },
  {
   "cell_type": "markdown",
   "metadata": {},
   "source": [
    "## 带有dilation的input和output"
   ]
  },
  {
   "cell_type": "code",
   "execution_count": 11,
   "metadata": {},
   "outputs": [
    {
     "data": {
      "text/plain": [
       "256.0"
      ]
     },
     "execution_count": 11,
     "metadata": {},
     "output_type": "execute_result"
    }
   ],
   "source": [
    "inputsize=256\n",
    "\n",
    "kernel_size=3\n",
    "\n",
    "stride=1\n",
    "padding=0\n",
    "dilation=0\n",
    "kernel_ = dilation*(kernel_size-1) + 1\n",
    "(inputsize+2*padding-kernel_)/stride+1"
   ]
  },
  {
   "cell_type": "code",
   "execution_count": 12,
   "metadata": {},
   "outputs": [
    {
     "data": {
      "text/plain": [
       "True"
      ]
     },
     "execution_count": 12,
     "metadata": {},
     "output_type": "execute_result"
    }
   ],
   "source": [
    "conv1_dila=nn.Conv2d(in_channels=3, out_channels=64, kernel_size=7, stride=2,padding=6,dilation=2)\n",
    "conv1_dila(x).shape==conv1(x).shape"
   ]
  },
  {
   "cell_type": "code",
   "execution_count": 13,
   "metadata": {},
   "outputs": [],
   "source": [
    "head=nn.Sequential(\n",
    "        nn.Conv2d(in_channels=3,out_channels=64,kernel_size=7,stride=2,padding=3, bias=False),\n",
    "        nn.BatchNorm2d(64),\n",
    "        nn.ReLU(inplace=True),\n",
    "        nn.MaxPool2d(kernel_size=3, stride=1, padding=1))\n",
    "conv_skip = nn.Sequential(\n",
    "            nn.Conv2d(3, 64, kernel_size=3, stride=stride, padding=1),\n",
    "            nn.BatchNorm2d(64),\n",
    "        )"
   ]
  },
  {
   "cell_type": "code",
   "execution_count": 14,
   "metadata": {},
   "outputs": [
    {
     "data": {
      "text/plain": [
       "torch.Size([1, 64, 256, 256])"
      ]
     },
     "execution_count": 14,
     "metadata": {},
     "output_type": "execute_result"
    }
   ],
   "source": [
    "class ResidualConv(nn.Module):\n",
    "    def __init__(self, in_channels, out_channels):\n",
    "        super(ResidualConv, self).__init__()\n",
    "\n",
    "        self.conv_block = nn.Sequential(\n",
    "            nn.BatchNorm2d(in_channels),\n",
    "            nn.ReLU(),\n",
    "            nn.Conv2d(\n",
    "                in_channels, out_channels, kernel_size=3, padding=1\n",
    "            ),\n",
    "            nn.BatchNorm2d(out_channels),\n",
    "            nn.ReLU(),\n",
    "            nn.Conv2d(out_channels, out_channels, kernel_size=3,padding=1 ),\n",
    "        )\n",
    "        self.conv_skip = nn.Sequential(\n",
    "            nn.Conv2d(in_channels, out_channels, kernel_size=3, padding=1),\n",
    "            nn.BatchNorm2d(out_channels),\n",
    "        )\n",
    "\n",
    "    def forward(self, x):\n",
    "\n",
    "        return self.conv_block(x) + self.conv_skip(x)\n",
    "resc=ResidualConv(3,64)\n",
    "resc(x).shape"
   ]
  },
  {
   "cell_type": "code",
   "execution_count": 15,
   "metadata": {},
   "outputs": [
    {
     "data": {
      "text/plain": [
       "torch.Size([1, 64, 128, 128])"
      ]
     },
     "execution_count": 15,
     "metadata": {},
     "output_type": "execute_result"
    }
   ],
   "source": [
    "head(x).shape"
   ]
  },
  {
   "cell_type": "code",
   "execution_count": 16,
   "metadata": {},
   "outputs": [
    {
     "data": {
      "text/plain": [
       "torch.Size([1, 64, 256, 256])"
      ]
     },
     "execution_count": 16,
     "metadata": {},
     "output_type": "execute_result"
    }
   ],
   "source": [
    "input_dim=3\n",
    "output_dim=64\n",
    "conv_block = nn.Sequential(\n",
    "        nn.BatchNorm2d(input_dim),\n",
    "        nn.ReLU(),\n",
    "        nn.Conv2d(\n",
    "            input_dim, output_dim, kernel_size=3, stride=1, padding=1\n",
    "        ),\n",
    "        nn.BatchNorm2d(output_dim),\n",
    "        nn.ReLU(),\n",
    "        nn.Conv2d(output_dim, output_dim, kernel_size=3, padding=1),\n",
    "    )\n",
    "conv_skip = nn.Sequential(\n",
    "    nn.Conv2d(input_dim, output_dim, kernel_size=3, stride=1, padding=1),\n",
    "    nn.BatchNorm2d(output_dim),\n",
    ")\n",
    "conv_block(x).shape"
   ]
  },
  {
   "cell_type": "code",
   "execution_count": 17,
   "metadata": {},
   "outputs": [
    {
     "data": {
      "text/plain": [
       "torch.Size([1, 64, 256, 256])"
      ]
     },
     "execution_count": 17,
     "metadata": {},
     "output_type": "execute_result"
    }
   ],
   "source": [
    "conv_skip(x).shape"
   ]
  },
  {
   "cell_type": "code",
   "execution_count": 19,
   "metadata": {},
   "outputs": [
    {
     "data": {
      "text/plain": [
       "tensor(-633.3213)"
      ]
     },
     "execution_count": 19,
     "metadata": {},
     "output_type": "execute_result"
    }
   ],
   "source": [
    "input = torch.randn(3, 512, 64, 64)\n",
    "# psa = PSA(channel=512, reduction=8)\n",
    "# output = psa(input)\n",
    "a = input.view(-1).sum()\n",
    "a#.backward()"
   ]
  },
  {
   "cell_type": "code",
   "execution_count": null,
   "metadata": {},
   "outputs": [
    {
     "name": "stderr",
     "output_type": "stream",
     "text": [
      "d:\\degree_thesis\\tr2\\py39torch2\\lib\\site-packages\\torchvision\\models\\_utils.py:208: UserWarning: The parameter 'pretrained' is deprecated since 0.13 and may be removed in the future, please use 'weights' instead.\n",
      "  warnings.warn(\n",
      "d:\\degree_thesis\\tr2\\py39torch2\\lib\\site-packages\\torchvision\\models\\_utils.py:223: UserWarning: Arguments other than a weight enum or `None` for 'weights' are deprecated since 0.13 and may be removed in the future. The current behavior is equivalent to passing `weights=None`.\n",
      "  warnings.warn(msg)\n"
     ]
    }
   ],
   "source": [
    "# 常用网络结构\n",
    "from torchvision.models.segmentation import fcn_resnet101\n",
    "model = fcn_resnet101(pretrained=False,num_classes=3)"
   ]
  },
  {
   "cell_type": "code",
   "execution_count": null,
   "metadata": {},
   "outputs": [
    {
     "name": "stderr",
     "output_type": "stream",
     "text": [
      "d:\\degree_thesis\\tr2\\py39torch2\\lib\\site-packages\\torchvision\\models\\_utils.py:208: UserWarning: The parameter 'pretrained' is deprecated since 0.13 and may be removed in the future, please use 'weights' instead.\n",
      "  warnings.warn(\n",
      "d:\\degree_thesis\\tr2\\py39torch2\\lib\\site-packages\\torchvision\\models\\_utils.py:223: UserWarning: Arguments other than a weight enum or `None` for 'weights' are deprecated since 0.13 and may be removed in the future. The current behavior is equivalent to passing `weights=None`.\n",
      "  warnings.warn(msg)\n"
     ]
    },
    {
     "data": {
      "text/plain": [
       "Sequential(\n",
       "  (0): BasicBlock(\n",
       "    (conv1): Conv2d(64, 64, kernel_size=(3, 3), stride=(1, 1), padding=(1, 1), bias=False)\n",
       "    (bn1): BatchNorm2d(64, eps=1e-05, momentum=0.1, affine=True, track_running_stats=True)\n",
       "    (relu): ReLU(inplace=True)\n",
       "    (conv2): Conv2d(64, 64, kernel_size=(3, 3), stride=(1, 1), padding=(1, 1), bias=False)\n",
       "    (bn2): BatchNorm2d(64, eps=1e-05, momentum=0.1, affine=True, track_running_stats=True)\n",
       "  )\n",
       "  (1): BasicBlock(\n",
       "    (conv1): Conv2d(64, 64, kernel_size=(3, 3), stride=(1, 1), padding=(1, 1), bias=False)\n",
       "    (bn1): BatchNorm2d(64, eps=1e-05, momentum=0.1, affine=True, track_running_stats=True)\n",
       "    (relu): ReLU(inplace=True)\n",
       "    (conv2): Conv2d(64, 64, kernel_size=(3, 3), stride=(1, 1), padding=(1, 1), bias=False)\n",
       "    (bn2): BatchNorm2d(64, eps=1e-05, momentum=0.1, affine=True, track_running_stats=True)\n",
       "  )\n",
       "  (2): BasicBlock(\n",
       "    (conv1): Conv2d(64, 64, kernel_size=(3, 3), stride=(1, 1), padding=(1, 1), bias=False)\n",
       "    (bn1): BatchNorm2d(64, eps=1e-05, momentum=0.1, affine=True, track_running_stats=True)\n",
       "    (relu): ReLU(inplace=True)\n",
       "    (conv2): Conv2d(64, 64, kernel_size=(3, 3), stride=(1, 1), padding=(1, 1), bias=False)\n",
       "    (bn2): BatchNorm2d(64, eps=1e-05, momentum=0.1, affine=True, track_running_stats=True)\n",
       "  )\n",
       ")"
      ]
     },
     "execution_count": 3,
     "metadata": {},
     "output_type": "execute_result"
    }
   ],
   "source": [
    "resnet34 = torchvision.models.resnet34(pretrained=False)\n",
    "filters = [64, 128, 256, 512]\n",
    "\n",
    "firstlayer = nn.Sequential(*list(resnet34.children())[:3])\n",
    "maxpool = list(resnet34.children())[3]\n",
    "encoder1 = resnet34.layer1\n",
    "encoder1"
   ]
  },
  {
   "cell_type": "code",
   "execution_count": null,
   "metadata": {},
   "outputs": [
    {
     "data": {
      "text/plain": [
       "BasicBlock(\n",
       "  (conv1): Conv2d(3, 64, kernel_size=(3, 3), stride=(1, 1), padding=(1, 1), bias=False)\n",
       "  (bn1): BatchNorm2d(64, eps=1e-05, momentum=0.1, affine=True, track_running_stats=True)\n",
       "  (relu): ReLU(inplace=True)\n",
       "  (conv2): Conv2d(64, 64, kernel_size=(3, 3), stride=(1, 1), padding=(1, 1), bias=False)\n",
       "  (bn2): BatchNorm2d(64, eps=1e-05, momentum=0.1, affine=True, track_running_stats=True)\n",
       ")"
      ]
     },
     "execution_count": 5,
     "metadata": {},
     "output_type": "execute_result"
    }
   ],
   "source": [
    "from torchvision.models.resnet import BasicBlock\n",
    "BasicBlock(3,64)"
   ]
  }
 ],
 "metadata": {
  "kernelspec": {
   "display_name": "Python 3",
   "language": "python",
   "name": "python3"
  },
  "language_info": {
   "codemirror_mode": {
    "name": "ipython",
    "version": 3
   },
   "file_extension": ".py",
   "mimetype": "text/x-python",
   "name": "python",
   "nbconvert_exporter": "python",
   "pygments_lexer": "ipython3",
   "version": "3.10.13"
  },
  "orig_nbformat": 4
 },
 "nbformat": 4,
 "nbformat_minor": 2
}
