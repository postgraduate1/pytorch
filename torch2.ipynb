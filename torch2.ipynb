{
 "cells": [
  {
   "cell_type": "markdown",
   "metadata": {},
   "source": [
    "## 减小尺寸"
   ]
  },
  {
   "cell_type": "code",
   "execution_count": 15,
   "metadata": {},
   "outputs": [
    {
     "name": "stderr",
     "output_type": "stream",
     "text": [
      "d:\\degree_thesis\\tr2\\py39torch2\\lib\\site-packages\\torchvision\\models\\_utils.py:223: UserWarning: Arguments other than a weight enum or `None` for 'weights' are deprecated since 0.13 and may be removed in the future. The current behavior is equivalent to passing `weights=ResNet50_Weights.IMAGENET1K_V1`. You can also use `weights=ResNet50_Weights.DEFAULT` to get the most up-to-date weights.\n",
      "  warnings.warn(msg)\n"
     ]
    },
    {
     "name": "stdout",
     "output_type": "stream",
     "text": [
      "torch.Size([1, 1, 4, 4])\n",
      "torch.Size([1, 1, 8, 8])\n"
     ]
    }
   ],
   "source": [
    "import torch\n",
    "\n",
    "import torch.nn as nn\n",
    "import torchvision\n",
    "import torch.nn.functional as F\n",
    "resnet50 = torchvision.models.resnet50(weights=True)\n",
    "\n",
    "# 大步长卷积 \n",
    "conv_stride = nn.Conv2d(in_channels=1, \n",
    "                        out_channels=1, \n",
    "                        kernel_size=3,\n",
    "                        stride=2, \n",
    "                        padding=1)\n",
    "\n",
    "# 空洞卷积\n",
    "conv_dilation = nn.Conv2d(in_channels=1,\n",
    "                        out_channels=1,\n",
    "                        kernel_size=3,\n",
    "                        dilation=2,\n",
    "                        padding=2,\n",
    "                        padding_mode='zeros')\n",
    "x = torch.rand(1, 1, 8, 8)\n",
    "\n",
    "out_stride = conv_stride(x)\n",
    "out_dilation = conv_dilation(x)\n",
    "\n",
    "print(out_stride.shape) # torch.Size([1, 1, 4, 4]) \n",
    "print(out_dilation.shape) # torch.Size([1, 1, 8, 8])"
   ]
  },
  {
   "cell_type": "code",
   "execution_count": 16,
   "metadata": {},
   "outputs": [
    {
     "data": {
      "text/plain": [
       "tensor([[[[0.4013, 0.2599, 0.3984, 0.6955, 0.5617, 0.7415, 0.3680, 0.3843],\n",
       "          [0.9494, 0.5737, 0.1379, 0.1944, 0.9920, 0.4587, 0.6653, 0.0228],\n",
       "          [0.1549, 0.4097, 0.5182, 0.9452, 0.3082, 0.3802, 0.5829, 0.3839],\n",
       "          [0.7799, 0.2858, 0.5881, 0.4983, 0.5230, 0.8420, 0.7326, 0.2877],\n",
       "          [0.8668, 0.0570, 0.2338, 0.4139, 0.5477, 0.5740, 0.3205, 0.1987],\n",
       "          [0.0396, 0.8435, 0.0186, 0.4589, 0.0550, 0.9314, 0.5518, 0.9348],\n",
       "          [0.7921, 0.9419, 0.6508, 0.3896, 0.9311, 0.4514, 0.9430, 0.3867],\n",
       "          [0.3271, 0.5836, 0.0828, 0.7070, 0.8774, 0.7539, 0.8035, 0.1452]]]])"
      ]
     },
     "execution_count": 16,
     "metadata": {},
     "output_type": "execute_result"
    }
   ],
   "source": [
    "torch.mean(x, dim=1, keepdim=True)"
   ]
  },
  {
   "cell_type": "code",
   "execution_count": 17,
   "metadata": {},
   "outputs": [],
   "source": [
    "in_places=3\n",
    "places=64\n",
    "stride=1#不改变尺寸\n",
    "expansion=4#通道倍增倍数\n",
    "bottleneck = nn.Sequential(\n",
    "            nn.Conv2d(in_channels=in_places,out_channels=places,kernel_size=1,stride=1, bias=False),\n",
    "            nn.BatchNorm2d(places),\n",
    "            # nn.ReLU(inplace=True),\n",
    "            nn.Conv2d(in_channels=places, out_channels=places, kernel_size=3, stride=stride, padding=1, bias=False),\n",
    "            nn.BatchNorm2d(places),\n",
    "            # nn.ReLU(inplace=True),\n",
    "            nn.Conv2d(in_channels=places, out_channels=places*expansion, kernel_size=1, stride=1, bias=False),\n",
    "            nn.BatchNorm2d(places*expansion),\n",
    "        )"
   ]
  },
  {
   "cell_type": "code",
   "execution_count": 18,
   "metadata": {},
   "outputs": [
    {
     "data": {
      "text/plain": [
       "torch.Size([1, 256, 256, 256])"
      ]
     },
     "execution_count": 18,
     "metadata": {},
     "output_type": "execute_result"
    }
   ],
   "source": [
    "x = torch.rand(1, 3, 256, 256)\n",
    "bottleneck(x).shape"
   ]
  },
  {
   "cell_type": "code",
   "execution_count": 19,
   "metadata": {},
   "outputs": [
    {
     "name": "stdout",
     "output_type": "stream",
     "text": [
      "torch.Size([1, 64, 256, 256])\n"
     ]
    }
   ],
   "source": [
    "x=torch.rand(1, 3, 256, 256)\n",
    "print(nn.Conv2d(in_channels=3, out_channels=64, kernel_size=1, stride=1, padding=0, dilation=1)(x).shape)"
   ]
  },
  {
   "cell_type": "code",
   "execution_count": 20,
   "metadata": {},
   "outputs": [
    {
     "data": {
      "text/plain": [
       "torch.Size([1, 64, 128, 128])"
      ]
     },
     "execution_count": 20,
     "metadata": {},
     "output_type": "execute_result"
    }
   ],
   "source": [
    "dilation=1\n",
    "kernel_size=5\n",
    "kernel_ = dilation*(kernel_size-1) + 1\n",
    "stride=2\n",
    "padding=2\n",
    "\n",
    "conv1=nn.Conv2d(in_channels=3, out_channels=64, kernel_size=kernel_size, stride=stride,padding=padding,dilation=dilation)\n",
    "conv1(x).shape\n"
   ]
  },
  {
   "cell_type": "code",
   "execution_count": 29,
   "metadata": {},
   "outputs": [
    {
     "data": {
      "text/plain": [
       "256.0"
      ]
     },
     "execution_count": 29,
     "metadata": {},
     "output_type": "execute_result"
    }
   ],
   "source": [
    "inputsize=256\n",
    "\n",
    "kernel_size=3\n",
    "\n",
    "stride=1\n",
    "padding=0\n",
    "dilation=0\n",
    "kernel_ = dilation*(kernel_size-1) + 1\n",
    "(inputsize+2*padding-kernel_)/stride+1"
   ]
  },
  {
   "cell_type": "code",
   "execution_count": null,
   "metadata": {},
   "outputs": [],
   "source": [
    "conv1_dila=nn.Conv2d(in_channels=3, out_channels=64, kernel_size=7, stride=2,padding=6,dilation=2)\n",
    "conv1_dila(x).shape==conv1(x).shape"
   ]
  },
  {
   "cell_type": "code",
   "execution_count": 6,
   "metadata": {},
   "outputs": [],
   "source": [
    "head=nn.Sequential(\n",
    "        nn.Conv2d(in_channels=3,out_channels=64,kernel_size=7,stride=2,padding=3, bias=False),\n",
    "        nn.BatchNorm2d(64),\n",
    "        nn.ReLU(inplace=True),\n",
    "        nn.MaxPool2d(kernel_size=3, stride=1, padding=1))\n",
    "conv_skip = nn.Sequential(\n",
    "            nn.Conv2d(3, 64, kernel_size=3, stride=stride, padding=1),\n",
    "            nn.BatchNorm2d(64),\n",
    "        )"
   ]
  },
  {
   "cell_type": "code",
   "execution_count": 7,
   "metadata": {},
   "outputs": [
    {
     "data": {
      "text/plain": [
       "torch.Size([1, 64, 256, 256])"
      ]
     },
     "execution_count": 7,
     "metadata": {},
     "output_type": "execute_result"
    }
   ],
   "source": [
    "class ResidualConv(nn.Module):\n",
    "    def __init__(self, in_channels, out_channels):\n",
    "        super(ResidualConv, self).__init__()\n",
    "\n",
    "        self.conv_block = nn.Sequential(\n",
    "            nn.BatchNorm2d(in_channels),\n",
    "            nn.ReLU(),\n",
    "            nn.Conv2d(\n",
    "                in_channels, out_channels, kernel_size=3, padding=1\n",
    "            ),\n",
    "            nn.BatchNorm2d(out_channels),\n",
    "            nn.ReLU(),\n",
    "            nn.Conv2d(out_channels, out_channels, kernel_size=3,padding=1 ),\n",
    "        )\n",
    "        self.conv_skip = nn.Sequential(\n",
    "            nn.Conv2d(in_channels, out_channels, kernel_size=3, padding=1),\n",
    "            nn.BatchNorm2d(out_channels),\n",
    "        )\n",
    "\n",
    "    def forward(self, x):\n",
    "\n",
    "        return self.conv_block(x) + self.conv_skip(x)\n",
    "resc=ResidualConv(3,64)\n",
    "resc(x).shape"
   ]
  },
  {
   "cell_type": "code",
   "execution_count": 5,
   "metadata": {},
   "outputs": [
    {
     "data": {
      "text/plain": [
       "torch.Size([1, 64, 128, 128])"
      ]
     },
     "execution_count": 5,
     "metadata": {},
     "output_type": "execute_result"
    }
   ],
   "source": [
    "head(x).shape"
   ]
  },
  {
   "cell_type": "code",
   "execution_count": 14,
   "metadata": {},
   "outputs": [
    {
     "data": {
      "text/plain": [
       "torch.Size([1, 64, 256, 256])"
      ]
     },
     "execution_count": 14,
     "metadata": {},
     "output_type": "execute_result"
    }
   ],
   "source": [
    "input_dim=3\n",
    "output_dim=64\n",
    "conv_block = nn.Sequential(\n",
    "        nn.BatchNorm2d(input_dim),\n",
    "        nn.ReLU(),\n",
    "        nn.Conv2d(\n",
    "            input_dim, output_dim, kernel_size=3, stride=1, padding=1\n",
    "        ),\n",
    "        nn.BatchNorm2d(output_dim),\n",
    "        nn.ReLU(),\n",
    "        nn.Conv2d(output_dim, output_dim, kernel_size=3, padding=1),\n",
    "    )\n",
    "conv_skip = nn.Sequential(\n",
    "    nn.Conv2d(input_dim, output_dim, kernel_size=3, stride=1, padding=1),\n",
    "    nn.BatchNorm2d(output_dim),\n",
    ")\n",
    "conv_block(x).shape"
   ]
  },
  {
   "cell_type": "code",
   "execution_count": 15,
   "metadata": {},
   "outputs": [
    {
     "data": {
      "text/plain": [
       "torch.Size([1, 64, 256, 256])"
      ]
     },
     "execution_count": 15,
     "metadata": {},
     "output_type": "execute_result"
    }
   ],
   "source": [
    "conv_skip(x).shape"
   ]
  },
  {
   "cell_type": "code",
   "execution_count": 12,
   "metadata": {},
   "outputs": [
    {
     "name": "stderr",
     "output_type": "stream",
     "text": [
      "d:\\degree_thesis\\tr2\\py39torch2\\lib\\site-packages\\tqdm\\auto.py:21: TqdmWarning: IProgress not found. Please update jupyter and ipywidgets. See https://ipywidgets.readthedocs.io/en/stable/user_install.html\n",
      "  from .autonotebook import tqdm as notebook_tqdm\n"
     ]
    }
   ],
   "source": [
    "import segmentation_models_pytorch as smp"
   ]
  },
  {
   "cell_type": "code",
   "execution_count": 13,
   "metadata": {},
   "outputs": [
    {
     "data": {
      "text/plain": [
       "tensor(5760.3721)"
      ]
     },
     "execution_count": 13,
     "metadata": {},
     "output_type": "execute_result"
    }
   ],
   "source": [
    "input = torch.randn(3, 512, 64, 64)\n",
    "# psa = PSA(channel=512, reduction=8)\n",
    "# output = psa(input)\n",
    "a = input.view(-1).sum()\n",
    "a#.backward()"
   ]
  },
  {
   "cell_type": "code",
   "execution_count": 18,
   "metadata": {},
   "outputs": [
    {
     "name": "stderr",
     "output_type": "stream",
     "text": [
      "d:\\degree_thesis\\tr2\\py39torch2\\lib\\site-packages\\torchvision\\models\\_utils.py:208: UserWarning: The parameter 'pretrained' is deprecated since 0.13 and may be removed in the future, please use 'weights' instead.\n",
      "  warnings.warn(\n",
      "d:\\degree_thesis\\tr2\\py39torch2\\lib\\site-packages\\torchvision\\models\\_utils.py:223: UserWarning: Arguments other than a weight enum or `None` for 'weights' are deprecated since 0.13 and may be removed in the future. The current behavior is equivalent to passing `weights=None`.\n",
      "  warnings.warn(msg)\n"
     ]
    }
   ],
   "source": [
    "# 常用网络结构\n",
    "from torchvision.models.segmentation import fcn_resnet101\n",
    "model = fcn_resnet101(pretrained=False,num_classes=3)"
   ]
  },
  {
   "cell_type": "code",
   "execution_count": 3,
   "metadata": {},
   "outputs": [
    {
     "name": "stderr",
     "output_type": "stream",
     "text": [
      "d:\\degree_thesis\\tr2\\py39torch2\\lib\\site-packages\\torchvision\\models\\_utils.py:208: UserWarning: The parameter 'pretrained' is deprecated since 0.13 and may be removed in the future, please use 'weights' instead.\n",
      "  warnings.warn(\n",
      "d:\\degree_thesis\\tr2\\py39torch2\\lib\\site-packages\\torchvision\\models\\_utils.py:223: UserWarning: Arguments other than a weight enum or `None` for 'weights' are deprecated since 0.13 and may be removed in the future. The current behavior is equivalent to passing `weights=None`.\n",
      "  warnings.warn(msg)\n"
     ]
    },
    {
     "data": {
      "text/plain": [
       "Sequential(\n",
       "  (0): BasicBlock(\n",
       "    (conv1): Conv2d(64, 64, kernel_size=(3, 3), stride=(1, 1), padding=(1, 1), bias=False)\n",
       "    (bn1): BatchNorm2d(64, eps=1e-05, momentum=0.1, affine=True, track_running_stats=True)\n",
       "    (relu): ReLU(inplace=True)\n",
       "    (conv2): Conv2d(64, 64, kernel_size=(3, 3), stride=(1, 1), padding=(1, 1), bias=False)\n",
       "    (bn2): BatchNorm2d(64, eps=1e-05, momentum=0.1, affine=True, track_running_stats=True)\n",
       "  )\n",
       "  (1): BasicBlock(\n",
       "    (conv1): Conv2d(64, 64, kernel_size=(3, 3), stride=(1, 1), padding=(1, 1), bias=False)\n",
       "    (bn1): BatchNorm2d(64, eps=1e-05, momentum=0.1, affine=True, track_running_stats=True)\n",
       "    (relu): ReLU(inplace=True)\n",
       "    (conv2): Conv2d(64, 64, kernel_size=(3, 3), stride=(1, 1), padding=(1, 1), bias=False)\n",
       "    (bn2): BatchNorm2d(64, eps=1e-05, momentum=0.1, affine=True, track_running_stats=True)\n",
       "  )\n",
       "  (2): BasicBlock(\n",
       "    (conv1): Conv2d(64, 64, kernel_size=(3, 3), stride=(1, 1), padding=(1, 1), bias=False)\n",
       "    (bn1): BatchNorm2d(64, eps=1e-05, momentum=0.1, affine=True, track_running_stats=True)\n",
       "    (relu): ReLU(inplace=True)\n",
       "    (conv2): Conv2d(64, 64, kernel_size=(3, 3), stride=(1, 1), padding=(1, 1), bias=False)\n",
       "    (bn2): BatchNorm2d(64, eps=1e-05, momentum=0.1, affine=True, track_running_stats=True)\n",
       "  )\n",
       ")"
      ]
     },
     "execution_count": 3,
     "metadata": {},
     "output_type": "execute_result"
    }
   ],
   "source": [
    "resnet34 = torchvision.models.resnet34(pretrained=False)\n",
    "filters = [64, 128, 256, 512]\n",
    "\n",
    "firstlayer = nn.Sequential(*list(resnet34.children())[:3])\n",
    "maxpool = list(resnet34.children())[3]\n",
    "encoder1 = resnet34.layer1\n",
    "encoder1"
   ]
  },
  {
   "cell_type": "code",
   "execution_count": 5,
   "metadata": {},
   "outputs": [
    {
     "data": {
      "text/plain": [
       "BasicBlock(\n",
       "  (conv1): Conv2d(3, 64, kernel_size=(3, 3), stride=(1, 1), padding=(1, 1), bias=False)\n",
       "  (bn1): BatchNorm2d(64, eps=1e-05, momentum=0.1, affine=True, track_running_stats=True)\n",
       "  (relu): ReLU(inplace=True)\n",
       "  (conv2): Conv2d(64, 64, kernel_size=(3, 3), stride=(1, 1), padding=(1, 1), bias=False)\n",
       "  (bn2): BatchNorm2d(64, eps=1e-05, momentum=0.1, affine=True, track_running_stats=True)\n",
       ")"
      ]
     },
     "execution_count": 5,
     "metadata": {},
     "output_type": "execute_result"
    }
   ],
   "source": [
    "from torchvision.models.resnet import BasicBlock\n",
    "BasicBlock(3,64)"
   ]
  }
 ],
 "metadata": {
  "kernelspec": {
   "display_name": "Python 3",
   "language": "python",
   "name": "python3"
  },
  "language_info": {
   "codemirror_mode": {
    "name": "ipython",
    "version": 3
   },
   "file_extension": ".py",
   "mimetype": "text/x-python",
   "name": "python",
   "nbconvert_exporter": "python",
   "pygments_lexer": "ipython3",
   "version": "3.9.17"
  },
  "orig_nbformat": 4
 },
 "nbformat": 4,
 "nbformat_minor": 2
}
